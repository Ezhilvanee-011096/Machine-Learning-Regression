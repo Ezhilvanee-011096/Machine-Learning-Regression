{
 "cells": [
  {
   "cell_type": "code",
   "execution_count": 2,
   "id": "f185b1f3-e758-4702-959a-37e1a4127056",
   "metadata": {},
   "outputs": [],
   "source": [
    "#load the saved model\n",
    "\n",
    "import pickle as pck\n",
    "loaded_model = pck.load(open('finalized_model.sav','rb'))"
   ]
  },
  {
   "cell_type": "code",
   "execution_count": 3,
   "id": "ede73120-d229-48f5-8357-d6f62bea7435",
   "metadata": {},
   "outputs": [
    {
     "name": "stdin",
     "output_type": "stream",
     "text": [
      "Enter the Years of Experience for Prediction: 15\n"
     ]
    }
   ],
   "source": [
    "#Get the input from end user\n",
    "\n",
    "prediction_input = int(input(\"Enter the Years of Experience for Prediction:\"))"
   ]
  },
  {
   "cell_type": "code",
   "execution_count": 4,
   "id": "07d9fae6-c1b8-4d33-b1f6-70d3eaf41cac",
   "metadata": {},
   "outputs": [
    {
     "name": "stdout",
     "output_type": "stream",
     "text": [
      "Future Prediction = [[167181.3106341]]\n"
     ]
    },
    {
     "name": "stderr",
     "output_type": "stream",
     "text": [
      "C:\\Anaconda3\\Lib\\site-packages\\sklearn\\base.py:493: UserWarning: X does not have valid feature names, but LinearRegression was fitted with feature names\n",
      "  warnings.warn(\n"
     ]
    }
   ],
   "source": [
    "#Prediction\n",
    "\n",
    "future_prediction = loaded_model.predict([[prediction_input]])\n",
    "print(\"Future Prediction = {}\".format(future_prediction))"
   ]
  },
  {
   "cell_type": "code",
   "execution_count": 6,
   "id": "88468e59-c691-40fe-9d0f-9c8a293f2424",
   "metadata": {},
   "outputs": [
    {
     "name": "stdout",
     "output_type": "stream",
     "text": [
      "Future Prediction = [[167181.3106341]]\n"
     ]
    }
   ],
   "source": [
    "print(f\"Future Prediction = {future_prediction}\")"
   ]
  },
  {
   "cell_type": "code",
   "execution_count": null,
   "id": "5e6e177d-86b6-4550-8a4f-98e505a5a540",
   "metadata": {},
   "outputs": [],
   "source": []
  }
 ],
 "metadata": {
  "kernelspec": {
   "display_name": "Python 3 (ipykernel)",
   "language": "python",
   "name": "python3"
  },
  "language_info": {
   "codemirror_mode": {
    "name": "ipython",
    "version": 3
   },
   "file_extension": ".py",
   "mimetype": "text/x-python",
   "name": "python",
   "nbconvert_exporter": "python",
   "pygments_lexer": "ipython3",
   "version": "3.12.7"
  }
 },
 "nbformat": 4,
 "nbformat_minor": 5
}
