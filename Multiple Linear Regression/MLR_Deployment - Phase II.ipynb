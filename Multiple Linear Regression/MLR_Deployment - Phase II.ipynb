{
 "cells": [
  {
   "cell_type": "code",
   "execution_count": 1,
   "id": "5b9b6f46-c4fd-4d78-b475-f70f2bf11d75",
   "metadata": {},
   "outputs": [],
   "source": [
    "import pickle as pck"
   ]
  },
  {
   "cell_type": "code",
   "execution_count": 2,
   "id": "31bfa2ff-f80a-401c-a39c-9baf7fea1f41",
   "metadata": {},
   "outputs": [
    {
     "name": "stdout",
     "output_type": "stream",
     "text": [
      "['R&D Spend' 'Administration' 'Marketing Spend' 'State_Florida'\n",
      " 'State_New York']\n"
     ]
    }
   ],
   "source": [
    "load_model = pck.load(open(\"finalized_multiple_linear_model.sav\", 'rb'))\n",
    "input_array = load_model.feature_names_in_       #feature_names_in_ variable is used to know the expected parameters in the model\n",
    "print(input_array)"
   ]
  },
  {
   "cell_type": "code",
   "execution_count": 3,
   "id": "78e5c6db-b103-4f27-8837-f0926b226415",
   "metadata": {},
   "outputs": [
    {
     "name": "stdin",
     "output_type": "stream",
     "text": [
      "Enter Input-1: 123456\n",
      "Enter Input-2: 156235\n",
      "Enter Input-3: 189562\n",
      "Enter Input-4: 0\n",
      "Enter Input-5: 0\n"
     ]
    }
   ],
   "source": [
    "input_list = []\n",
    "for i in range(len(input_array)):\n",
    "    prediction_input = int(input(f\"Enter Input-{i+1}:\"))\n",
    "    input_list.append(prediction_input)"
   ]
  },
  {
   "cell_type": "code",
   "execution_count": 4,
   "id": "16722ab0-2a30-45bb-9223-a68c06fe3e78",
   "metadata": {},
   "outputs": [
    {
     "data": {
      "text/plain": [
       "[123456, 156235, 189562, 0, 0]"
      ]
     },
     "execution_count": 4,
     "metadata": {},
     "output_type": "execute_result"
    }
   ],
   "source": [
    "input_list"
   ]
  },
  {
   "cell_type": "code",
   "execution_count": 5,
   "id": "4153bc98-e9e2-4902-85b4-ce7c1444b997",
   "metadata": {},
   "outputs": [
    {
     "name": "stdout",
     "output_type": "stream",
     "text": [
      "Future Prediction = [[150634.88325341]]\n"
     ]
    },
    {
     "name": "stderr",
     "output_type": "stream",
     "text": [
      "C:\\Anaconda3\\Lib\\site-packages\\sklearn\\base.py:493: UserWarning: X does not have valid feature names, but LinearRegression was fitted with feature names\n",
      "  warnings.warn(\n"
     ]
    }
   ],
   "source": [
    "print(\"Future Prediction =\", load_model.predict([input_list]))"
   ]
  },
  {
   "cell_type": "code",
   "execution_count": null,
   "id": "12776438-ebac-401b-82d3-c3451ea131c7",
   "metadata": {},
   "outputs": [],
   "source": []
  }
 ],
 "metadata": {
  "kernelspec": {
   "display_name": "Python 3 (ipykernel)",
   "language": "python",
   "name": "python3"
  },
  "language_info": {
   "codemirror_mode": {
    "name": "ipython",
    "version": 3
   },
   "file_extension": ".py",
   "mimetype": "text/x-python",
   "name": "python",
   "nbconvert_exporter": "python",
   "pygments_lexer": "ipython3",
   "version": "3.12.7"
  }
 },
 "nbformat": 4,
 "nbformat_minor": 5
}
